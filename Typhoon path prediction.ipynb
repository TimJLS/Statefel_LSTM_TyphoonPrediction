{
 "cells": [
  {
   "cell_type": "code",
   "execution_count": 106,
   "metadata": {},
   "outputs": [],
   "source": [
    "import pandas as pd\n",
    "import numpy as np\n",
    "import os\n",
    "import matplotlib.pyplot as plt\n",
    "import pygeohash as pgh"
   ]
  },
  {
   "cell_type": "markdown",
   "metadata": {},
   "source": [
    "## Read file \n"
   ]
  },
  {
   "cell_type": "code",
   "execution_count": 107,
   "metadata": {},
   "outputs": [],
   "source": [
    "file_path = '1987-2016.kml'\n",
    "# read file\n",
    "ty_name=[]\n",
    "intensity=[]\n",
    "mslp=[]\n",
    "max_int=[]\n",
    "min_slp=[]\n",
    "timesteps=[]\n",
    "lon=[]\n",
    "lat=[]\n",
    "ty_data=np.ndarray(shape = (0,1))\n",
    "z = np.zeros((0,1))\n",
    "import lxml.etree as etree\n",
    "import re\n",
    "parser = etree.XMLParser(strip_cdata=False)\n",
    "tree = etree.parse(file_path, parser=parser)\n",
    "#print(etree.tostring(tree, xml_declaration=True))\n",
    "#print(tree.xpath('//kml:Placemark/kml:TimeSpan/text()', namespaces={\"kml\":\"http://www.opengis.net/kml/2.2\"}))\n",
    "nmsp = '{http://www.opengis.net/kml/2.2}'\n"
   ]
  },
  {
   "cell_type": "markdown",
   "metadata": {},
   "source": [
    "## Data Cleansing"
   ]
  },
  {
   "cell_type": "code",
   "execution_count": 108,
   "metadata": {},
   "outputs": [],
   "source": [
    "### walk through history typhoon file ###\n",
    "for fd in tree.iterfind('/{0}Document/{0}Folder/{0}Folder/{0}Folder'.format(nmsp)):\n",
    "    temp = fd.find('{0}Placemark/{0}name'.format(nmsp)).text\n",
    "    ty_name.append(temp)\n",
    "    count=0\n",
    "    ## feature extraction ##\n",
    "    for dscp in fd.iterfind('{0}Placemark'.format(nmsp)):\n",
    "        #print(dscp.find('{0}description'.format(nmsp)).text)\n",
    "        dscript = dscp.find('{0}description'.format(nmsp)).text\n",
    "        dscript = re.split(r'<[^>]+>|[\\s\\n\\t]', dscript)\n",
    "        temp_info= np.array([ele for ele in dscript if len(ele)>0])\n",
    "        #print(len(temp_info))\n",
    "        if len(temp_info) == 26:\n",
    "            temp_info=np.append(temp_info,count)\n",
    "            timesteps=np.append(timesteps,count)\n",
    "            intensity=np.append(intensity,[temp_info[13]])\n",
    "            mslp=np.append(mslp,[temp_info[16]])\n",
    "            max_int=np.append(max_int,[temp_info[20]])\n",
    "            min_slp=np.append(min_slp,[temp_info[24]])\n",
    "            count+=1\n",
    "        elif len(temp_info) == 30:\n",
    "            timesteps=np.append(timesteps,count)\n",
    "            intensity=np.append(intensity,[temp_info[17]])\n",
    "            mslp=np.append(mslp,[temp_info[20]])\n",
    "            max_int=np.append(max_int,[temp_info[24]])\n",
    "            min_slp=np.append(min_slp,[temp_info[28]])\n",
    "            count+=1\n",
    "        elif len(temp_info) == 33:\n",
    "            timesteps=np.append(timesteps,count)\n",
    "            intensity=np.append(intensity,[temp_info[17]])\n",
    "            mslp=np.append(mslp,[temp_info[23]])\n",
    "            max_int=np.append(max_int,[temp_info[27]])\n",
    "            min_slp=np.append(min_slp,[temp_info[31]])\n",
    "            count+=1\n",
    "        elif len(temp_info) == 35:\n",
    "            timesteps=np.append(timesteps,count)\n",
    "            intensity=np.append(intensity,[temp_info[20]])\n",
    "            mslp=np.append(mslp,[temp_info[25]])\n",
    "            max_int=np.append(max_int,[temp_info[29]])\n",
    "            min_slp=np.append(min_slp,[temp_info[33]])\n",
    "            count+=1\n",
    "    for i in range(count,105):\n",
    "        timesteps=np.append(timesteps,[i], axis=0)\n",
    "        intensity= np.append(intensity, [0], axis = 0)\n",
    "        mslp= np.append(mslp, [0], axis = 0)\n",
    "        max_int= np.append(max_int, [0], axis = 0)\n",
    "        min_slp= np.append(min_slp, [0], axis = 0)\n",
    "        count+=1\n",
    "    "
   ]
  },
  {
   "cell_type": "code",
   "execution_count": 109,
   "metadata": {},
   "outputs": [],
   "source": [
    "### Geogaphic coordinate feature extraction ###\n",
    "lon=[]\n",
    "lat=[]\n",
    "for fd in tree.iterfind('/{0}Document/{0}Folder/{0}Folder/{0}Folder'.format(nmsp)):\n",
    "    count=0\n",
    "    for coor in fd.iterfind('{0}Placemark/{0}Point'.format(nmsp)):\n",
    "        geocoor = coor.find('{0}coordinates'.format(nmsp)).text\n",
    "        lontitude,latitude,_ = geocoor.split(',')\n",
    "        lon = np.append(lon,lontitude)\n",
    "        lat = np.append(lat,latitude)\n",
    "        count+=1\n",
    "    for i in range(count,105):\n",
    "        lon = np.append(lon,lon[-1])\n",
    "        lat = np.append(lat,lat[-1])\n",
    "    #print(len(lon))\n"
   ]
  },
  {
   "cell_type": "code",
   "execution_count": 110,
   "metadata": {},
   "outputs": [
    {
     "data": {
      "text/plain": [
       "(95340, 95340, 95340)"
      ]
     },
     "execution_count": 110,
     "metadata": {},
     "output_type": "execute_result"
    }
   ],
   "source": [
    "from sklearn.preprocessing import normalize, MinMaxScaler, StandardScaler\n",
    "\n",
    "standard = StandardScaler(copy=True, with_mean=True, with_std=True)\n",
    "minmax = MinMaxScaler(copy=True, feature_range=(0, 1))\n",
    "\n",
    "'''scaler = scaler.fit_transform(df)\n",
    "scaler = scaler.fit_transform(df)\n",
    "scaled_X = scaler.transform(df['Intensity','MSLP','Max Intensity','Minimum SLP'])\n",
    "\n",
    "inverted_X = scaler.inverse_transform(scaled_X)\n",
    "#arr = arr.reshape(arr.shape[0], 1, arr.shape[1])\n",
    "\n",
    "train_x = df\n",
    "train_y = df'''\n",
    "#mslp = mslp.reshape(-1,1)\n",
    "#standard = standard.fit_transform(mslp)\n",
    "\n",
    "'''plt.figure(figsize=(20,5))\n",
    "plt.hist(standard)'''\n",
    "len(lon),len(intensity),len(mslp)"
   ]
  },
  {
   "cell_type": "code",
   "execution_count": 111,
   "metadata": {},
   "outputs": [],
   "source": [
    "#  to pandas Dataframe\n",
    "#data = {'Max Intensity':max_int,'Minimum SLP':min_slp}\n",
    "data = {'lon':lon,'lat':lat,'Intensity':intensity,'MSLP':mslp,'Max Intensity':max_int,'Minimum SLP':min_slp}\n",
    "df = pd.DataFrame(data=data)\n",
    "df = df.apply(pd.to_numeric,downcast='float')\n",
    "for i,ele in enumerate(df['lon']):\n",
    "    gh = pgh.encode(df['lon'][i],df['lat'][i],precision=4)\n",
    "    df.loc[i,'geohash'] = gh"
   ]
  },
  {
   "cell_type": "code",
   "execution_count": 112,
   "metadata": {},
   "outputs": [
    {
     "data": {
      "text/plain": [
       "<matplotlib.axes._subplots.AxesSubplot at 0x72c99cca90>"
      ]
     },
     "execution_count": 112,
     "metadata": {},
     "output_type": "execute_result"
    },
    {
     "data": {
      "image/png": "[encoded data removed]",
      "text/plain": [
       "<Figure size 432x288 with 2 Axes>"
      ]
     },
     "metadata": {},
     "output_type": "display_data"
    }
   ],
   "source": [
    "import seaborn as sns\n",
    "data = df.corr()\n",
    "sns.heatmap(data)"
   ]
  },
  {
   "cell_type": "code",
   "execution_count": 14,
   "metadata": {},
   "outputs": [
    {
     "name": "stderr",
     "output_type": "stream",
     "text": [
      "Using TensorFlow backend.\n"
     ]
    }
   ],
   "source": [
    "from keras.models import Sequential\n",
    "from keras.layers import Dense, Dropout, Activation, Flatten, LSTM, TimeDistributed, RepeatVector\n",
    "from keras.layers.normalization import BatchNormalization\n",
    "from keras import optimizers\n",
    "from keras.callbacks import EarlyStopping, ModelCheckpoint\n",
    "from keras import regularizers\n",
    "from keras.models import load_model\n",
    "%matplotlib inline"
   ]
  },
  {
   "cell_type": "code",
   "execution_count": 41,
   "metadata": {},
   "outputs": [],
   "source": [
    "def fit_lstm(train, batch_size, nb_epoch, neurons):\n",
    "    X, y = train[:,:], train[:,:]\n",
    "    X = train.reshape(96248, 1, train.shape[1])\n",
    "    \n",
    "    \n",
    "    RMSprop = optimizers.RMSprop(lr=0.001, rho=0.9, decay=0.0, clipvalue=0.1)\n",
    "    model = Sequential()\n",
    "    model.add(LSTM(neurons, batch_input_shape=(batch_size, X.shape[1], X.shape[2]), stateful=True))\n",
    "    model.add(Dense(7))\n",
    "    model.compile(loss='mse', optimizer=RMSprop, metrics=['acc'])\n",
    "    es = EarlyStopping(monitor='val_loss', patience=5)\n",
    "    for i in range(0, 96248, 106):\n",
    "        model.fit(X, y, epochs=1, batch_size=batch_size, verbose=1, shuffle=False,validation_split=0.1,callbacks=[es])\n",
    "        model.reset_states()\n",
    "    model.save('lstm_RMSprop.h5')\n",
    "    \n",
    "    return model\n"
   ]
  },
  {
   "cell_type": "code",
   "execution_count": 44,
   "metadata": {},
   "outputs": [
    {
     "name": "stdout",
     "output_type": "stream",
     "text": [
      "Train on 86623 samples, validate on 9625 samples\n",
      "Epoch 1/1\n",
      "86623/86623 [==============================] - 211s 2ms/step - loss: 0.2495 - acc: 0.8020 - val_loss: 0.1404 - val_acc: 0.7418\n",
      "Train on 86623 samples, validate on 9625 samples\n",
      "Epoch 1/1\n",
      "86623/86623 [==============================] - 242s 3ms/step - loss: 0.2774 - acc: 0.8017 - val_loss: 0.1564 - val_acc: 0.7538\n",
      "Train on 86623 samples, validate on 9625 samples\n",
      "Epoch 1/1\n",
      "86623/86623 [==============================] - 243s 3ms/step - loss: 0.2599 - acc: 0.7845 - val_loss: 0.1636 - val_acc: 0.7624\n",
      "Train on 86623 samples, validate on 9625 samples\n",
      "Epoch 1/1\n",
      "86623/86623 [==============================] - 198s 2ms/step - loss: 0.2609 - acc: 0.7746 - val_loss: 0.2043 - val_acc: 0.6859\n",
      "Train on 86623 samples, validate on 9625 samples\n",
      "Epoch 1/1\n",
      "86623/86623 [==============================] - 192s 2ms/step - loss: 0.2718 - acc: 0.7530 - val_loss: 0.2054 - val_acc: 0.7116\n",
      "Train on 86623 samples, validate on 9625 samples\n",
      "Epoch 1/1\n",
      "86623/86623 [==============================] - 193s 2ms/step - loss: 0.2707 - acc: 0.7594 - val_loss: 0.2146 - val_acc: 0.7329\n",
      "Train on 86623 samples, validate on 9625 samples\n",
      "Epoch 1/1\n",
      "86623/86623 [==============================] - 188s 2ms/step - loss: 0.2937 - acc: 0.7512 - val_loss: 0.2045 - val_acc: 0.7626\n",
      "Train on 86623 samples, validate on 9625 samples\n",
      "Epoch 1/1\n",
      "86623/86623 [==============================] - 188s 2ms/step - loss: 0.3452 - acc: 0.7359 - val_loss: 0.2645 - val_acc: 0.7387\n",
      "Train on 86623 samples, validate on 9625 samples\n",
      "Epoch 1/1\n",
      "86623/86623 [==============================] - 198s 2ms/step - loss: 0.3940 - acc: 0.7264 - val_loss: 0.1857 - val_acc: 0.7046\n",
      "Train on 86623 samples, validate on 9625 samples\n",
      "Epoch 1/1\n",
      "86623/86623 [==============================] - 197s 2ms/step - loss: 0.2884 - acc: 0.7482 - val_loss: 0.1668 - val_acc: 0.6982\n",
      "Train on 86623 samples, validate on 9625 samples\n",
      "Epoch 1/1\n",
      "52544/86623 [=================>............] - ETA: 1:12 - loss: 0.3820 - acc: 0.7286"
     ]
    },
    {
     "ename": "KeyboardInterrupt",
     "evalue": "",
     "output_type": "error",
     "traceback": [
      "\u001b[1;31m---------------------------------------------------------------------------\u001b[0m",
      "\u001b[1;31mKeyboardInterrupt\u001b[0m                         Traceback (most recent call last)",
      "\u001b[1;32m<timed eval>\u001b[0m in \u001b[0;36m<module>\u001b[1;34m()\u001b[0m\n",
      "\u001b[1;32m<ipython-input-41-2265c8771819>\u001b[0m in \u001b[0;36mfit_lstm\u001b[1;34m(train, batch_size, nb_epoch, neurons)\u001b[0m\n\u001b[0;32m     11\u001b[0m     \u001b[0mes\u001b[0m \u001b[1;33m=\u001b[0m \u001b[0mEarlyStopping\u001b[0m\u001b[1;33m(\u001b[0m\u001b[0mmonitor\u001b[0m\u001b[1;33m=\u001b[0m\u001b[1;34m'val_loss'\u001b[0m\u001b[1;33m,\u001b[0m \u001b[0mpatience\u001b[0m\u001b[1;33m=\u001b[0m\u001b[1;36m5\u001b[0m\u001b[1;33m)\u001b[0m\u001b[1;33m\u001b[0m\u001b[0m\n\u001b[0;32m     12\u001b[0m     \u001b[1;32mfor\u001b[0m \u001b[0mi\u001b[0m \u001b[1;32min\u001b[0m \u001b[0mrange\u001b[0m\u001b[1;33m(\u001b[0m\u001b[1;36m0\u001b[0m\u001b[1;33m,\u001b[0m \u001b[1;36m96248\u001b[0m\u001b[1;33m,\u001b[0m \u001b[1;36m106\u001b[0m\u001b[1;33m)\u001b[0m\u001b[1;33m:\u001b[0m\u001b[1;33m\u001b[0m\u001b[0m\n\u001b[1;32m---> 13\u001b[1;33m         \u001b[0mmodel\u001b[0m\u001b[1;33m.\u001b[0m\u001b[0mfit\u001b[0m\u001b[1;33m(\u001b[0m\u001b[0mX\u001b[0m\u001b[1;33m,\u001b[0m \u001b[0my\u001b[0m\u001b[1;33m,\u001b[0m \u001b[0mepochs\u001b[0m\u001b[1;33m=\u001b[0m\u001b[1;36m1\u001b[0m\u001b[1;33m,\u001b[0m \u001b[0mbatch_size\u001b[0m\u001b[1;33m=\u001b[0m\u001b[0mbatch_size\u001b[0m\u001b[1;33m,\u001b[0m \u001b[0mverbose\u001b[0m\u001b[1;33m=\u001b[0m\u001b[1;36m1\u001b[0m\u001b[1;33m,\u001b[0m \u001b[0mshuffle\u001b[0m\u001b[1;33m=\u001b[0m\u001b[1;32mFalse\u001b[0m\u001b[1;33m,\u001b[0m\u001b[0mvalidation_split\u001b[0m\u001b[1;33m=\u001b[0m\u001b[1;36m0.1\u001b[0m\u001b[1;33m,\u001b[0m\u001b[0mcallbacks\u001b[0m\u001b[1;33m=\u001b[0m\u001b[1;33m[\u001b[0m\u001b[0mes\u001b[0m\u001b[1;33m]\u001b[0m\u001b[1;33m)\u001b[0m\u001b[1;33m\u001b[0m\u001b[0m\n\u001b[0m\u001b[0;32m     14\u001b[0m         \u001b[0mmodel\u001b[0m\u001b[1;33m.\u001b[0m\u001b[0mreset_states\u001b[0m\u001b[1;33m(\u001b[0m\u001b[1;33m)\u001b[0m\u001b[1;33m\u001b[0m\u001b[0m\n\u001b[0;32m     15\u001b[0m     \u001b[0mmodel\u001b[0m\u001b[1;33m.\u001b[0m\u001b[0msave\u001b[0m\u001b[1;33m(\u001b[0m\u001b[1;34m'lstm_RMSprop.h5'\u001b[0m\u001b[1;33m)\u001b[0m\u001b[1;33m\u001b[0m\u001b[0m\n",
      "\u001b[1;32m~\\Anaconda3\\lib\\site-packages\\keras\\models.py\u001b[0m in \u001b[0;36mfit\u001b[1;34m(self, x, y, batch_size, epochs, verbose, callbacks, validation_split, validation_data, shuffle, class_weight, sample_weight, initial_epoch, steps_per_epoch, validation_steps, **kwargs)\u001b[0m\n\u001b[0;32m    961\u001b[0m                               \u001b[0minitial_epoch\u001b[0m\u001b[1;33m=\u001b[0m\u001b[0minitial_epoch\u001b[0m\u001b[1;33m,\u001b[0m\u001b[1;33m\u001b[0m\u001b[0m\n\u001b[0;32m    962\u001b[0m                               \u001b[0msteps_per_epoch\u001b[0m\u001b[1;33m=\u001b[0m\u001b[0msteps_per_epoch\u001b[0m\u001b[1;33m,\u001b[0m\u001b[1;33m\u001b[0m\u001b[0m\n\u001b[1;32m--> 963\u001b[1;33m                               validation_steps=validation_steps)\n\u001b[0m\u001b[0;32m    964\u001b[0m \u001b[1;33m\u001b[0m\u001b[0m\n\u001b[0;32m    965\u001b[0m     def evaluate(self, x=None, y=None,\n",
      "\u001b[1;32m~\\Anaconda3\\lib\\site-packages\\keras\\engine\\training.py\u001b[0m in \u001b[0;36mfit\u001b[1;34m(self, x, y, batch_size, epochs, verbose, callbacks, validation_split, validation_data, shuffle, class_weight, sample_weight, initial_epoch, steps_per_epoch, validation_steps, **kwargs)\u001b[0m\n\u001b[0;32m   1710\u001b[0m                               \u001b[0minitial_epoch\u001b[0m\u001b[1;33m=\u001b[0m\u001b[0minitial_epoch\u001b[0m\u001b[1;33m,\u001b[0m\u001b[1;33m\u001b[0m\u001b[0m\n\u001b[0;32m   1711\u001b[0m                               \u001b[0msteps_per_epoch\u001b[0m\u001b[1;33m=\u001b[0m\u001b[0msteps_per_epoch\u001b[0m\u001b[1;33m,\u001b[0m\u001b[1;33m\u001b[0m\u001b[0m\n\u001b[1;32m-> 1712\u001b[1;33m                               validation_steps=validation_steps)\n\u001b[0m\u001b[0;32m   1713\u001b[0m \u001b[1;33m\u001b[0m\u001b[0m\n\u001b[0;32m   1714\u001b[0m     def evaluate(self, x=None, y=None,\n",
      "\u001b[1;32m~\\Anaconda3\\lib\\site-packages\\keras\\engine\\training.py\u001b[0m in \u001b[0;36m_fit_loop\u001b[1;34m(self, f, ins, out_labels, batch_size, epochs, verbose, callbacks, val_f, val_ins, shuffle, callback_metrics, initial_epoch, steps_per_epoch, validation_steps)\u001b[0m\n\u001b[0;32m   1239\u001b[0m                         \u001b[0mbatch_logs\u001b[0m\u001b[1;33m[\u001b[0m\u001b[0ml\u001b[0m\u001b[1;33m]\u001b[0m \u001b[1;33m=\u001b[0m \u001b[0mo\u001b[0m\u001b[1;33m\u001b[0m\u001b[0m\n\u001b[0;32m   1240\u001b[0m \u001b[1;33m\u001b[0m\u001b[0m\n\u001b[1;32m-> 1241\u001b[1;33m                     \u001b[0mcallbacks\u001b[0m\u001b[1;33m.\u001b[0m\u001b[0mon_batch_end\u001b[0m\u001b[1;33m(\u001b[0m\u001b[0mbatch_index\u001b[0m\u001b[1;33m,\u001b[0m \u001b[0mbatch_logs\u001b[0m\u001b[1;33m)\u001b[0m\u001b[1;33m\u001b[0m\u001b[0m\n\u001b[0m\u001b[0;32m   1242\u001b[0m                     \u001b[1;32mif\u001b[0m \u001b[0mcallback_model\u001b[0m\u001b[1;33m.\u001b[0m\u001b[0mstop_training\u001b[0m\u001b[1;33m:\u001b[0m\u001b[1;33m\u001b[0m\u001b[0m\n\u001b[0;32m   1243\u001b[0m                         \u001b[1;32mbreak\u001b[0m\u001b[1;33m\u001b[0m\u001b[0m\n",
      "\u001b[1;32m~\\Anaconda3\\lib\\site-packages\\keras\\callbacks.py\u001b[0m in \u001b[0;36mon_batch_end\u001b[1;34m(self, batch, logs)\u001b[0m\n\u001b[0;32m    113\u001b[0m             \u001b[0mcallback\u001b[0m\u001b[1;33m.\u001b[0m\u001b[0mon_batch_end\u001b[0m\u001b[1;33m(\u001b[0m\u001b[0mbatch\u001b[0m\u001b[1;33m,\u001b[0m \u001b[0mlogs\u001b[0m\u001b[1;33m)\u001b[0m\u001b[1;33m\u001b[0m\u001b[0m\n\u001b[0;32m    114\u001b[0m         \u001b[0mself\u001b[0m\u001b[1;33m.\u001b[0m\u001b[0m_delta_ts_batch_end\u001b[0m\u001b[1;33m.\u001b[0m\u001b[0mappend\u001b[0m\u001b[1;33m(\u001b[0m\u001b[0mtime\u001b[0m\u001b[1;33m.\u001b[0m\u001b[0mtime\u001b[0m\u001b[1;33m(\u001b[0m\u001b[1;33m)\u001b[0m \u001b[1;33m-\u001b[0m \u001b[0mt_before_callbacks\u001b[0m\u001b[1;33m)\u001b[0m\u001b[1;33m\u001b[0m\u001b[0m\n\u001b[1;32m--> 115\u001b[1;33m         \u001b[0mdelta_t_median\u001b[0m \u001b[1;33m=\u001b[0m \u001b[0mnp\u001b[0m\u001b[1;33m.\u001b[0m\u001b[0mmedian\u001b[0m\u001b[1;33m(\u001b[0m\u001b[0mself\u001b[0m\u001b[1;33m.\u001b[0m\u001b[0m_delta_ts_batch_end\u001b[0m\u001b[1;33m)\u001b[0m\u001b[1;33m\u001b[0m\u001b[0m\n\u001b[0m\u001b[0;32m    116\u001b[0m         if (self._delta_t_batch > 0. and\n\u001b[0;32m    117\u001b[0m            (delta_t_median > 0.95 * self._delta_t_batch and delta_t_median > 0.1)):\n",
      "\u001b[1;32m~\\Anaconda3\\lib\\site-packages\\numpy\\lib\\function_base.py\u001b[0m in \u001b[0;36mmedian\u001b[1;34m(a, axis, out, overwrite_input, keepdims)\u001b[0m\n\u001b[0;32m   4117\u001b[0m     \"\"\"\n\u001b[0;32m   4118\u001b[0m     r, k = _ureduce(a, func=_median, axis=axis, out=out,\n\u001b[1;32m-> 4119\u001b[1;33m                     overwrite_input=overwrite_input)\n\u001b[0m\u001b[0;32m   4120\u001b[0m     \u001b[1;32mif\u001b[0m \u001b[0mkeepdims\u001b[0m\u001b[1;33m:\u001b[0m\u001b[1;33m\u001b[0m\u001b[0m\n\u001b[0;32m   4121\u001b[0m         \u001b[1;32mreturn\u001b[0m \u001b[0mr\u001b[0m\u001b[1;33m.\u001b[0m\u001b[0mreshape\u001b[0m\u001b[1;33m(\u001b[0m\u001b[0mk\u001b[0m\u001b[1;33m)\u001b[0m\u001b[1;33m\u001b[0m\u001b[0m\n",
      "\u001b[1;32m~\\Anaconda3\\lib\\site-packages\\numpy\\lib\\function_base.py\u001b[0m in \u001b[0;36m_ureduce\u001b[1;34m(a, func, **kwargs)\u001b[0m\n\u001b[0;32m   4031\u001b[0m         \u001b[0mkeepdim\u001b[0m \u001b[1;33m=\u001b[0m \u001b[1;33m(\u001b[0m\u001b[1;36m1\u001b[0m\u001b[1;33m,\u001b[0m\u001b[1;33m)\u001b[0m \u001b[1;33m*\u001b[0m \u001b[0ma\u001b[0m\u001b[1;33m.\u001b[0m\u001b[0mndim\u001b[0m\u001b[1;33m\u001b[0m\u001b[0m\n\u001b[0;32m   4032\u001b[0m \u001b[1;33m\u001b[0m\u001b[0m\n\u001b[1;32m-> 4033\u001b[1;33m     \u001b[0mr\u001b[0m \u001b[1;33m=\u001b[0m \u001b[0mfunc\u001b[0m\u001b[1;33m(\u001b[0m\u001b[0ma\u001b[0m\u001b[1;33m,\u001b[0m \u001b[1;33m**\u001b[0m\u001b[0mkwargs\u001b[0m\u001b[1;33m)\u001b[0m\u001b[1;33m\u001b[0m\u001b[0m\n\u001b[0m\u001b[0;32m   4034\u001b[0m     \u001b[1;32mreturn\u001b[0m \u001b[0mr\u001b[0m\u001b[1;33m,\u001b[0m \u001b[0mkeepdim\u001b[0m\u001b[1;33m\u001b[0m\u001b[0m\n\u001b[0;32m   4035\u001b[0m \u001b[1;33m\u001b[0m\u001b[0m\n",
      "\u001b[1;32m~\\Anaconda3\\lib\\site-packages\\numpy\\lib\\function_base.py\u001b[0m in \u001b[0;36m_median\u001b[1;34m(a, axis, out, overwrite_input)\u001b[0m\n\u001b[0;32m   4150\u001b[0m             \u001b[0mpart\u001b[0m \u001b[1;33m=\u001b[0m \u001b[0ma\u001b[0m\u001b[1;33m\u001b[0m\u001b[0m\n\u001b[0;32m   4151\u001b[0m     \u001b[1;32melse\u001b[0m\u001b[1;33m:\u001b[0m\u001b[1;33m\u001b[0m\u001b[0m\n\u001b[1;32m-> 4152\u001b[1;33m         \u001b[0mpart\u001b[0m \u001b[1;33m=\u001b[0m \u001b[0mpartition\u001b[0m\u001b[1;33m(\u001b[0m\u001b[0ma\u001b[0m\u001b[1;33m,\u001b[0m \u001b[0mkth\u001b[0m\u001b[1;33m,\u001b[0m \u001b[0maxis\u001b[0m\u001b[1;33m=\u001b[0m\u001b[0maxis\u001b[0m\u001b[1;33m)\u001b[0m\u001b[1;33m\u001b[0m\u001b[0m\n\u001b[0m\u001b[0;32m   4153\u001b[0m \u001b[1;33m\u001b[0m\u001b[0m\n\u001b[0;32m   4154\u001b[0m     \u001b[1;32mif\u001b[0m \u001b[0mpart\u001b[0m\u001b[1;33m.\u001b[0m\u001b[0mshape\u001b[0m \u001b[1;33m==\u001b[0m \u001b[1;33m(\u001b[0m\u001b[1;33m)\u001b[0m\u001b[1;33m:\u001b[0m\u001b[1;33m\u001b[0m\u001b[0m\n",
      "\u001b[1;32m~\\Anaconda3\\lib\\site-packages\\numpy\\core\\fromnumeric.py\u001b[0m in \u001b[0;36mpartition\u001b[1;34m(a, kth, axis, kind, order)\u001b[0m\n\u001b[0;32m    662\u001b[0m     \u001b[1;32melse\u001b[0m\u001b[1;33m:\u001b[0m\u001b[1;33m\u001b[0m\u001b[0m\n\u001b[0;32m    663\u001b[0m         \u001b[0ma\u001b[0m \u001b[1;33m=\u001b[0m \u001b[0masanyarray\u001b[0m\u001b[1;33m(\u001b[0m\u001b[0ma\u001b[0m\u001b[1;33m)\u001b[0m\u001b[1;33m.\u001b[0m\u001b[0mcopy\u001b[0m\u001b[1;33m(\u001b[0m\u001b[0morder\u001b[0m\u001b[1;33m=\u001b[0m\u001b[1;34m\"K\"\u001b[0m\u001b[1;33m)\u001b[0m\u001b[1;33m\u001b[0m\u001b[0m\n\u001b[1;32m--> 664\u001b[1;33m     \u001b[0ma\u001b[0m\u001b[1;33m.\u001b[0m\u001b[0mpartition\u001b[0m\u001b[1;33m(\u001b[0m\u001b[0mkth\u001b[0m\u001b[1;33m,\u001b[0m \u001b[0maxis\u001b[0m\u001b[1;33m=\u001b[0m\u001b[0maxis\u001b[0m\u001b[1;33m,\u001b[0m \u001b[0mkind\u001b[0m\u001b[1;33m=\u001b[0m\u001b[0mkind\u001b[0m\u001b[1;33m,\u001b[0m \u001b[0morder\u001b[0m\u001b[1;33m=\u001b[0m\u001b[0morder\u001b[0m\u001b[1;33m)\u001b[0m\u001b[1;33m\u001b[0m\u001b[0m\n\u001b[0m\u001b[0;32m    665\u001b[0m     \u001b[1;32mreturn\u001b[0m \u001b[0ma\u001b[0m\u001b[1;33m\u001b[0m\u001b[0m\n\u001b[0;32m    666\u001b[0m \u001b[1;33m\u001b[0m\u001b[0m\n",
      "\u001b[1;31mKeyboardInterrupt\u001b[0m: "
     ]
    }
   ],
   "source": [
    "%%time\n",
    "fit_lstm(scaled_X, 1, 1, 4)"
   ]
  },
  {
   "cell_type": "code",
   "execution_count": null,
   "metadata": {},
   "outputs": [],
   "source": [
    "model = load_model('lstm_RMSprop.h5')\n",
    "train_reshaped = scaled_X.reshape(1800, 1, 11)\n",
    "a = model.predict(train_reshaped, batch_size=1)\n",
    "inversed_X = scaler.inverse_transform(a)"
   ]
  },
  {
   "cell_type": "code",
   "execution_count": null,
   "metadata": {},
   "outputs": [],
   "source": [
    "plt.figure(figsize=(20,5))\n",
    "plt.plot(inversed_X[:,0])\n",
    "plt.plot(arr[:,0])\n",
    "plt.xlim([0,900])\n",
    "plt.show()"
   ]
  },
  {
   "cell_type": "code",
   "execution_count": null,
   "metadata": {},
   "outputs": [],
   "source": [
    "# returns train, inference_encoder and inference_decoder models\n",
    "def define_models(n_input, n_output, n_units):\n",
    "    # define training encoder\n",
    "    encoder_inputs = Input(shape=(None, n_input))\n",
    "    encoder = LSTM(n_units, return_state=True)\n",
    "    encoder_outputs, state_h, state_c = encoder(encoder_inputs)\n",
    "    encoder_states = [state_h, state_c]\n",
    "    # define training decoder\n",
    "    decoder_inputs = Input(shape=(None, n_output))\n",
    "    decoder_lstm = LSTM(n_units, return_sequences=True, return_state=True)\n",
    "    decoder_outputs, _, _ = decoder_lstm(decoder_inputs, initial_state=encoder_states)\n",
    "    decoder_dense = Dense(n_output, activation='softmax')\n",
    "    decoder_outputs = decoder_dense(decoder_outputs)\n",
    "    model = Model([encoder_inputs, decoder_inputs], decoder_outputs)\n",
    "    # define inference encoder\n",
    "    encoder_model = Model(encoder_inputs, encoder_states)\n",
    "    # define inference decoder\n",
    "    decoder_state_input_h = Input(shape=(n_units,))\n",
    "    decoder_state_input_c = Input(shape=(n_units,))\n",
    "    decoder_states_inputs = [decoder_state_input_h, decoder_state_input_c]\n",
    "    decoder_outputs, state_h, state_c = decoder_lstm(decoder_inputs, initial_state=decoder_states_inputs)\n",
    "    decoder_states = [state_h, state_c]\n",
    "    decoder_outputs = decoder_dense(decoder_outputs)\n",
    "    decoder_model = Model([decoder_inputs] + decoder_states_inputs, [decoder_outputs] + decoder_states)\n",
    "    # return all models\n",
    "    return model, encoder_model, decoder_model\n",
    "\n",
    "def fit_seq2seq(train, batch_size, nb_epoch, neurons):\n",
    "    X, y = train[:,:], train[:,:]\n",
    "    X = train.reshape(train.shape[0], 1, train.shape[1])\n",
    "    y = train.reshape(train.shape[0], 1, train.shape[1])\n",
    "        \n",
    "    model = Sequential()\n",
    "    model.add(LSTM(neurons, batch_input_shape=(batch_size, X.shape[1], X.shape[2]), stateful=True, return_sequences=True))\n",
    "    model.add(Dense(11, activation=\"relu\"))\n",
    "    model.add(LSTM(11, return_sequences=True))\n",
    "    model.add(TimeDistributed(Dense(units=11, \n",
    "                                    activation=\"softmax\")))\n",
    "    model.compile(loss='mae', optimizer='adam', metrics=['acc'])\n",
    "    es = EarlyStopping(monitor='val_loss', patience=5)\n",
    "    for i in range(0, 1800, 60):\n",
    "        model.fit(X, y, epochs=100, batch_size=batch_size, verbose=1, shuffle=False,validation_split=0.1,callbacks=[es])\n",
    "        model.reset_states()\n",
    "    model.save('lstm_seq2seq.h5')\n",
    "    \n",
    "    return model"
   ]
  },
  {
   "cell_type": "code",
   "execution_count": null,
   "metadata": {},
   "outputs": [],
   "source": [
    "fit_seq2seq(scaled_X, 1, 10, 40)"
   ]
  },
  {
   "cell_type": "code",
   "execution_count": null,
   "metadata": {},
   "outputs": [],
   "source": [
    "model = load_model('lstm_seq2seq.h5')\n",
    "train_reshaped = scaled_X.reshape(1800, 1, 11)\n",
    "a = model.predict(train_reshaped, batch_size=1)\n",
    "inversed_X = scaler.inverse_transform(a)"
   ]
  },
  {
   "cell_type": "code",
   "execution_count": null,
   "metadata": {},
   "outputs": [],
   "source": [
    "inversed_X[0:60,0,0],train_x[0:3]"
   ]
  },
  {
   "cell_type": "code",
   "execution_count": null,
   "metadata": {},
   "outputs": [],
   "source": [
    "plt.plot(inversed_X[60:360,0,3])\n",
    "plt.plot(arr[:,3])\n",
    "plt.show()"
   ]
  },
  {
   "cell_type": "code",
   "execution_count": null,
   "metadata": {},
   "outputs": [],
   "source": [
    "input_size=train_x[:,0,0]\n",
    "hidden_size=11\n",
    "max_out_seq_len=train_x[0,:,0]\n",
    "output_size=train_x[:,0,0]\n",
    "def build_model(input_size, max_out_seq_len, hidden_size):\n",
    "    RMSprop = optimizers.RMSprop(lr=0.001, rho=0.9, decay=0.0, clipvalue=0.1)\n",
    "    model = Sequential()\n",
    "    model.add(LSTM(input_shape=(60,11),\n",
    "                   return_sequences=True,\n",
    "                   units=30))\n",
    "    model.add(Dense(1024, activation=\"relu\"))\n",
    "    \n",
    "    model.add(LSTM(hidden_size, return_sequences=True))\n",
    "    model.add(TimeDistributed(Dense(units=11, \n",
    "                                    activation=\"softmax\")))\n",
    "    model.compile(loss=\"mse\", optimizer=RMSprop, metrics=['acc'])\n",
    "    \n",
    "    \n",
    "    return model"
   ]
  },
  {
   "cell_type": "code",
   "execution_count": null,
   "metadata": {},
   "outputs": [],
   "source": [
    "def train(epochs, x, y):\n",
    "    \n",
    "    model = build_model(input_size, max_out_seq_len, hidden_size)\n",
    "    es = EarlyStopping(monitor='val_loss', patience=5)\n",
    "    model.fit(x, y, \n",
    "              validation_split=0.1,\n",
    "              epochs=epochs,\n",
    "              callbacks=[es])\n",
    "    for i in range(0, 1800, 60):\n",
    "        model.fit(X, y, epochs=1, batch_size=batch_size, verbose=1, shuffle=False,validation_split=0.1)\n",
    "        model.reset_states()\n",
    "    model.save('lstm.h5')\n"
   ]
  },
  {
   "cell_type": "code",
   "execution_count": null,
   "metadata": {},
   "outputs": [],
   "source": [
    "train(1000, train_x, train_y)"
   ]
  },
  {
   "cell_type": "code",
   "execution_count": null,
   "metadata": {},
   "outputs": [],
   "source": [
    "indices = int(len(train_x)/10)\n",
    "test_x = arr[:indices,0:5]\n",
    "test_y = arr[:indices,0:5]\n",
    "scores = model.evaluate(arr[:,0:5,:], arr[:,0:5,:])\n",
    "predictions = model.predict(test_x)\n",
    "scores"
   ]
  },
  {
   "cell_type": "code",
   "execution_count": null,
   "metadata": {},
   "outputs": [],
   "source": [
    "'''def normalize(train):\n",
    "    \n",
    "    train_norm = train.apply(lambda x: (x - np.mean(x)) / (np.max(x) - np.min(x)))\n",
    "    return train_norm'''"
   ]
  },
  {
   "cell_type": "code",
   "execution_count": null,
   "metadata": {},
   "outputs": [],
   "source": [
    "'''def buildTrain(train, pastDay=5, futureDay=5):\n",
    "    X_train, Y_train = [], []\n",
    "    for i in range(0,train.shape[0]-futureDay-pastDay,5):\n",
    "        X_train.append(np.array(train.iloc[i:i+pastDay]))\n",
    "        Y_train.append(np.array(train.iloc[i+pastDay:i+pastDay+futureDay]))\n",
    "    X_train = np.array(X_train)\n",
    "    Y_train = np.array(Y_train)\n",
    "    return X_train, Y_train'''"
   ]
  },
  {
   "cell_type": "code",
   "execution_count": null,
   "metadata": {},
   "outputs": [],
   "source": [
    "'''def splitData(X,Y,rate):\n",
    "    X_train = X[int(X.shape[0]*rate):]\n",
    "    Y_train = Y[int(Y.shape[0]*rate):]\n",
    "    X_val = X[:int(X.shape[0]*rate)]\n",
    "    Y_val = Y[:int(Y.shape[0]*rate)]\n",
    "    return X_train, Y_train, X_val, Y_val'''"
   ]
  },
  {
   "cell_type": "code",
   "execution_count": null,
   "metadata": {},
   "outputs": [],
   "source": [
    "\n",
    "'''\n",
    "# Normalization\n",
    "train_norm = normalize(train_x)\n",
    "\n",
    "# build Data, use last 60 timesteps to predict next 60 timesteps\n",
    "X_train, Y_train = buildTrain(train_norm, 5, 5)\n",
    "\n",
    "\n",
    "# shuffle the data, and random seed is 10\n",
    "X_train, Y_train = shuffle(X_train, Y_train)\n",
    "\n",
    "# split training data and validation data\n",
    "X_train, Y_train, X_val, Y_val = splitData(X_train, Y_train, 0.1)\n",
    "\n",
    "\n",
    "model = buildManyToManyModel(X_train.shape)\n",
    "callback = EarlyStopping(monitor=\"loss\", patience=10, verbose=1, mode=\"auto\")\n",
    "model.fit(X_train, Y_train, epochs=1000, batch_size=60, validation_data=(X_val, Y_val), callbacks=[callback])\n",
    "'''"
   ]
  },
  {
   "cell_type": "code",
   "execution_count": null,
   "metadata": {},
   "outputs": [],
   "source": []
  },
  {
   "cell_type": "code",
   "execution_count": null,
   "metadata": {
    "scrolled": true
   },
   "outputs": [],
   "source": [
    "gdf = gpd.read_file('2016.geojson')\n",
    "train_dir = \"train\"\n",
    "test_dir = 'test'\n",
    "file=[]\n",
    "time_count=[]\n",
    "gdf_train = pd.DataFrame()\n",
    "gdf_test = pd.DataFrame()\n",
    "def ty_info(typhoon):\n",
    "    ###進行資料的初步處理###\n",
    "    for index, row in typhoon[['geometry']].iterrows():\n",
    "        if typhoon['geometry'][index].geom_type == 'LineString':            \n",
    "            typhoon = typhoon.drop([index])            \n",
    "    typhoon.rename(columns={'MSLP ':'MSLP','Development State ':'Developmant State',\n",
    "                        'Maximum Intensity ':'Maximum Intensity(knots)', 'DTG ':'Date Time Group(DTG)',\n",
    "                        'LAT ':'LAT','LON ':'LON',\n",
    "                        'Intensity ':'Intensity','Minimum SLP ':'central sea level pressure (mb)'}, inplace = True)\n",
    "    typhoon = typhoon.to_xarray()\n",
    "    typhoon = typhoon.to_dataframe()\n",
    "    typhoon['MSLP'] = typhoon['MSLP'].str.replace(' mb','')\n",
    "    typhoon['Maximum Intensity(knots)'] = typhoon['Maximum Intensity(knots)'].str.replace(' kts','')\n",
    "    typhoon['central sea level pressure (mb)'] = typhoon['central sea level pressure (mb)'].str.replace(' mb','')\n",
    "    typhoon['Year'], typhoon['Month'], typhoon['Date'] = typhoon['begin'].str.split('-',2).str\n",
    "    typhoon['Year'] = typhoon['Year']\n",
    "    typhoon['Month'] = typhoon['Month']\n",
    "    \n",
    "    typhoon = typhoon.drop(columns=['description','begin','end','tessellate','Date Time Group(DTG)','Best Track Duration ','Date'])\n",
    "    \n",
    "    ###轉換資料格式###\n",
    "    typhoon[['MSLP','Maximum Intensity(knots)','LAT','LON','Intensity','central sea level pressure (mb)','Year','Month']] = typhoon[['MSLP','Maximum Intensity(knots)','LAT','LON','Intensity','central sea level pressure (mb)','Year','Month']].apply(pd.to_numeric,errors='coerce',downcast='float')\n",
    "    return typhoon\n",
    "\n",
    "gdf['name1'], gdf['name2'], gdf['name3'] = gdf['description'].str.split('\\n\\t\\t', 2).str\n",
    "list(gdf['name1'])"
   ]
  },
  {
   "cell_type": "markdown",
   "metadata": {},
   "source": [
    "## 讀檔(index, name, ....)並完成資料格式整理\n",
    "\n",
    "**表示方法**:單純以數字表示呢還是矩陣(ex:May:[0,0,0,0,1,0,0,0,0,0,0,0])"
   ]
  },
  {
   "cell_type": "markdown",
   "metadata": {},
   "source": [
    "### 分割原始資料成Train, Test"
   ]
  },
  {
   "cell_type": "code",
   "execution_count": null,
   "metadata": {},
   "outputs": [],
   "source": [
    "len(time_count),len(file)"
   ]
  },
  {
   "cell_type": "code",
   "execution_count": null,
   "metadata": {},
   "outputs": [],
   "source": []
  },
  {
   "cell_type": "code",
   "execution_count": null,
   "metadata": {},
   "outputs": [],
   "source": [
    "def load_file(dir, gdf):\n",
    "    for root, dirs, files in os.walk(dir, topdown=False):\n",
    "        \n",
    "        for name in files:\n",
    "            temp = gpd.read_file(os.path.join(root,name))\n",
    "        \n",
    "            time_count.append(len(temp.index))\n",
    "            file.append(name.replace('.geojson',''))\n",
    "\n",
    "        \n",
    "            temp = ty_info(temp)\n",
    "            #global gdf\n",
    "            gdf = gdf.append(temp)\n",
    "        \n",
    "            gdf = gpd.GeoDataFrame(gdf, crs={'init': 'epsg:4326'}, geometry=temp['geometry'])\n",
    "    return gdf\n",
    "#load_file(train_dir, gdf_train)\n",
    "load_file(test_dir, gdf_test)"
   ]
  }
 ],
 "metadata": {
  "kernelspec": {
   "display_name": "Python 3",
   "language": "python",
   "name": "python3"
  },
  "language_info": {
   "codemirror_mode": {
    "name": "ipython",
    "version": 3
   },
   "file_extension": ".py",
   "mimetype": "text/x-python",
   "name": "python",
   "nbconvert_exporter": "python",
   "pygments_lexer": "ipython3",
   "version": "3.6.5"
  }
 },
 "nbformat": 4,
 "nbformat_minor": 2
}
